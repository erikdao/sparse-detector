{
 "cells": [
  {
   "cell_type": "markdown",
   "metadata": {},
   "source": [
    "# Analyse the PAIBB on UnRel\n",
    "\n",
    "This notebook analyses and visualizes the results for **Percentage of Attentions Inside Bounding Boxes** (PAIBB) metric"
   ]
  },
  {
   "cell_type": "code",
   "execution_count": 1,
   "metadata": {},
   "outputs": [],
   "source": [
    "import os\n",
    "import re\n",
    "import sys\n",
    "import json\n",
    "import random\n",
    "random.seed(42)\n",
    "from typing import Optional, Any\n",
    "import warnings\n",
    "warnings.filterwarnings(\"ignore\")\n",
    "from pathlib import Path\n",
    "\n",
    "package_root = os.path.dirname(os.getcwd())\n",
    "sys.path.insert(0, package_root)\n",
    "\n",
    "import torch\n",
    "torch.manual_seed(42)\n",
    "\n",
    "import numpy as np\n",
    "np.random.seed(42)\n",
    "\n",
    "import pandas as pd\n",
    "from PIL import Image\n",
    "import matplotlib.pyplot as plt\n",
    "plt.rcParams[\"savefig.bbox\"] = 'tight'\n",
    "import matplotlib.patches as patches\n",
    "import seaborn as sns\n",
    "\n",
    "sns.set(font_scale=1.4)\n",
    "sns.set_style(\"whitegrid\", {\n",
    "    \"grid.linestyle\": 'dashed',\n",
    "    \"axes.edgecolor\": '#475569',\n",
    "    'font.family': ['sans-serif'],\n",
    "    'font.sans-serif': [\n",
    "        'Droid Sans',\n",
    "        'sans-serif'\n",
    "    ],\n",
    "})\n",
    "%matplotlib inline\n",
    "\n",
    "unrel_path = Path(package_root) / \"data\" / \"UnRel\" \n",
    "\n",
    "# Load unrel_path annotation\n",
    "with open(unrel_path / \"instances_unrel.json\") as f:\n",
    "    unrel_annos = json.load(f)"
   ]
  },
  {
   "cell_type": "code",
   "execution_count": 3,
   "metadata": {},
   "outputs": [],
   "source": [
    "annotations = unrel_annos['annotations']\n",
    "def get_annos_for_img(img_id: int) -> Any:\n",
    "    annos = filter(lambda x: x['image_id'] == img_id, annotations)\n",
    "    return list(annos)"
   ]
  },
  {
   "cell_type": "code",
   "execution_count": 13,
   "metadata": {},
   "outputs": [],
   "source": [
    "def read_data(fname: str):\n",
    "    metric_dir = Path(package_root) / \"unrel\" / \"outputs\" / \"metrics\" / \"paibb\"\n",
    "\n",
    "    data = []\n",
    "    fpath = metric_dir / fname\n",
    "    with open(fpath, \"r\") as f:\n",
    "        for line in f:\n",
    "            # Replace single quotes with double quotes for JSONEncoder to work\n",
    "            line = line.replace(\"\\'\", \"\\\"\")\n",
    "            item = json.loads(line)\n",
    "            data.append(item)\n",
    "\n",
    "\n",
    "    df = pd.DataFrame(data)\n",
    "    return df"
   ]
  },
  {
   "cell_type": "code",
   "execution_count": 14,
   "metadata": {},
   "outputs": [],
   "source": [
    "softmax_df = read_data(\"paibb_softmax.txt\")\n",
    "entmax15_df = read_data(\"paibb_entmax15.txt\")\n",
    "sparsemax_df = read_data(\"paibb_sparsemax.txt\")\n",
    "alpha_entmax_df = read_data(\"paibb_alpha_entmax.txt\")\n",
    "\n",
    "data = [\n",
    "    {'model': 'softmax', 'mean': softmax_df['paibb'].mean(), 'std': softmax_df['paibb'].std()},\n",
    "    {'model': 'entmax15', 'mean': entmax15_df['paibb'].mean(), 'std': entmax15_df['paibb'].std()},\n",
    "    {'model': 'sparsemax', 'mean': sparsemax_df['paibb'].mean(), 'std': sparsemax_df['paibb'].std()},\n",
    "    {'model': 'alpha_entmax', 'mean': alpha_entmax_df['paibb'].mean(), 'std': alpha_entmax_df['paibb'].std()},\n",
    "]\n",
    "\n",
    "df = pd.DataFrame(data)"
   ]
  },
  {
   "cell_type": "code",
   "execution_count": 15,
   "metadata": {},
   "outputs": [
    {
     "data": {
      "text/plain": [
       "[Text(0, 0, '0.551831'),\n",
       " Text(0, 0, '0.446862'),\n",
       " Text(0, 0, '0.577657'),\n",
       " Text(0, 0, '0.553313')]"
      ]
     },
     "execution_count": 15,
     "metadata": {},
     "output_type": "execute_result"
    },
    {
     "data": {
      "image/png": "[encoded data removed]",
      "text/plain": [
       "<Figure size 720x576 with 1 Axes>"
      ]
     },
     "metadata": {
      "needs_background": "light"
     },
     "output_type": "display_data"
    }
   ],
   "source": [
    "fig, ax = plt.subplots(figsize=(10, 8))\n",
    "sax = sns.barplot(data=df, x='model', y='mean', ax=ax)\n",
    "\n",
    "ax.set_xlabel(\"Model\")\n",
    "ax.set_ylabel(\"PAIBB\")\n",
    "x_coords = [p.get_x() + 0.5 * p.get_width() for p in sax.patches]\n",
    "y_coords = [p.get_height() for p in sax.patches]\n",
    "plt.errorbar(x=x_coords, y=y_coords, yerr=df['std'], fmt=\"none\", c=\"k\", capsize=10, elinewidth=2, markeredgewidth=2)\n",
    "sax.bar_label(sax.containers[0])"
   ]
  },
  {
   "cell_type": "code",
   "execution_count": 16,
   "metadata": {},
   "outputs": [],
   "source": [
    "def get_stat(frame):\n",
    "    small_df = frame[frame.gt_area < 32*32]\n",
    "    medium_df = frame[(frame.gt_area >= 32*32) & (frame.gt_area <= 96*96)]\n",
    "    large_df = frame[frame.gt_area > 96*96]\n",
    "    return {\n",
    "        \"small_mean\": small_df['paibb'].mean(),\n",
    "        \"small_std\": small_df['paibb'].std(),\n",
    "        \"medium_mean\": medium_df['paibb'].mean(),\n",
    "        \"medium_std\": medium_df['paibb'].std(),\n",
    "        \"large_mean\": large_df['paibb'].mean(),\n",
    "        \"large_std\": large_df['paibb'].std(),\n",
    "    }"
   ]
  },
  {
   "cell_type": "code",
   "execution_count": 19,
   "metadata": {},
   "outputs": [
    {
     "data": {
      "text/plain": [
       "[{'model': 'softmax',\n",
       "  'small_mean': 0.1657295399407889,\n",
       "  'small_std': 0.1603063442796247,\n",
       "  'medium_mean': 0.38110900475311577,\n",
       "  'medium_std': 0.1694129687505101,\n",
       "  'large_mean': 0.5884404909770353,\n",
       "  'large_std': 0.14499626187618672},\n",
       " {'model': 'entmax15',\n",
       "  'small_mean': 0.1500062802160293,\n",
       "  'small_std': 0.14226601944614437,\n",
       "  'medium_mean': 0.32627841374435085,\n",
       "  'medium_std': 0.14853181776772967,\n",
       "  'large_mean': 0.47323086000746284,\n",
       "  'large_std': 0.14654899796747292},\n",
       " {'model': 'sparsemax',\n",
       "  'small_mean': 0.2004519067763872,\n",
       "  'small_std': 0.1854135974756403,\n",
       "  'medium_mean': 0.4331106309562162,\n",
       "  'medium_std': 0.18687581695283,\n",
       "  'large_mean': 0.6097195270149608,\n",
       "  'large_std': 0.14244955828865458},\n",
       " {'model': 'alpha_entmax',\n",
       "  'small_mean': 0.14572046739636266,\n",
       "  'small_std': 0.13904331689959398,\n",
       "  'medium_mean': 0.34537382317836907,\n",
       "  'medium_std': 0.16195254834932532,\n",
       "  'large_mean': 0.5965769230518476,\n",
       "  'large_std': 0.1696920035532583}]"
      ]
     },
     "execution_count": 19,
     "metadata": {},
     "output_type": "execute_result"
    }
   ],
   "source": [
    "data = [\n",
    "    {'model': 'softmax', **get_stat(softmax_df)},\n",
    "    {'model': 'entmax15', **get_stat(entmax15_df)},\n",
    "    {'model': 'sparsemax', **get_stat(sparsemax_df)},\n",
    "    {'model': 'alpha_entmax', **get_stat(alpha_entmax_df)}\n",
    "]\n",
    "data"
   ]
  },
  {
   "cell_type": "code",
   "execution_count": 20,
   "metadata": {},
   "outputs": [
    {
     "name": "stdout",
     "output_type": "stream",
     "text": [
      "softmax & $16.57$ & $38.11$ & $58.84$ \\\\\n",
      "entmax15 & $15.00$ & $32.63$ & $47.32$ \\\\\n",
      "sparsemax & $20.05$ & $43.31$ & $60.97$ \\\\\n",
      "alpha_entmax & $14.57$ & $34.54$ & $59.66$ \\\\\n"
     ]
    }
   ],
   "source": [
    "for item in data:\n",
    "    str_line = item['model'] + \" & \"\n",
    "    s_mean = item['small_mean'] * 100\n",
    "    m_mean = item['medium_mean'] * 100\n",
    "    l_mean = item['large_mean'] * 100\n",
    "    str_line += f\"${s_mean:.2f}$ & ${m_mean:.2f}$ & ${l_mean:.2f}$ \\\\\\\\\"\n",
    "\n",
    "    print(str_line)"
   ]
  }
 ],
 "metadata": {
  "kernelspec": {
   "display_name": "Python 3.8.12 64-bit ('sparsedet')",
   "language": "python",
   "name": "python3"
  },
  "language_info": {
   "codemirror_mode": {
    "name": "ipython",
    "version": 3
   },
   "file_extension": ".py",
   "mimetype": "text/x-python",
   "name": "python",
   "nbconvert_exporter": "python",
   "pygments_lexer": "ipython3",
   "version": "3.8.12"
  },
  "orig_nbformat": 4,
  "vscode": {
   "interpreter": {
    "hash": "3210461cc64488a10684b54480cce69295f99eff5e8cc45fd92c882088c34216"
   }
  }
 },
 "nbformat": 4,
 "nbformat_minor": 2
}
