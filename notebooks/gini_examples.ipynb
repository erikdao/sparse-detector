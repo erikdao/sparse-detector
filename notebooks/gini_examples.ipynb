{
 "cells": [
  {
   "cell_type": "markdown",
   "metadata": {},
   "source": [
    "# Gini score"
   ]
  },
  {
   "cell_type": "code",
   "execution_count": 1,
   "metadata": {},
   "outputs": [],
   "source": [
    "import os\n",
    "import sys\n",
    "import warnings\n",
    "warnings.filterwarnings(\"ignore\")\n",
    "from pathlib import Path\n",
    "\n",
    "package_root = os.path.dirname(os.getcwd())\n",
    "sys.path.insert(0, package_root)\n",
    "\n",
    "import torch\n",
    "torch.manual_seed(42)\n",
    "import torch.nn.functional as nnF\n",
    "import torchvision.transforms.functional as F\n",
    "import torchvision.transforms as pth_transforms\n",
    "\n",
    "import numpy as np\n",
    "np.random.seed(42)\n",
    "from PIL import Image\n",
    "import matplotlib.pyplot as plt\n",
    "plt.rcParams[\"savefig.bbox\"] = 'tight'\n",
    "import matplotlib.patches as patches\n",
    "\n",
    "import seaborn as sns\n",
    "sns.set(font_scale=1.4)\n",
    "sns.set_style(\"white\", {\n",
    "    \"axes.edgecolor\": '#475569',\n",
    "    'font.family': ['sans-serif'],\n",
    "    'font.sans-serif': ['Arial',\n",
    "        'Droid Sans',\n",
    "        'sans-serif'\n",
    "    ],\n",
    "})\n",
    "\n",
    "%matplotlib inline\n",
    "\n",
    "from sparse_detector.utils.metrics import gini_sorted"
   ]
  },
  {
   "cell_type": "code",
   "execution_count": 27,
   "metadata": {},
   "outputs": [],
   "source": [
    "def gini_coefficient(x):\n",
    "    \"\"\"Compute Gini coefficient of array of values\"\"\"\n",
    "    diffsum = 0\n",
    "    for i, xi in enumerate(x[:-1], 1):\n",
    "        diffsum += np.sum(np.abs(xi - x[i:]))\n",
    "    return diffsum / (len(x)**2 * np.mean(x))"
   ]
  },
  {
   "cell_type": "markdown",
   "metadata": {},
   "source": [
    "**Uniform distribution**"
   ]
  },
  {
   "cell_type": "code",
   "execution_count": 61,
   "metadata": {},
   "outputs": [
    {
     "name": "stdout",
     "output_type": "stream",
     "text": [
      "0.33529250922148135\n"
     ]
    },
    {
     "data": {
      "image/png": "[encoded data removed]",
      "text/plain": [
       "<Figure size 504x288 with 1 Axes>"
      ]
     },
     "metadata": {
      "needs_background": "light"
     },
     "output_type": "display_data"
    }
   ],
   "source": [
    "s = np.random.uniform(0, 1, 1000)\n",
    "\n",
    "fig, ax = plt.subplots(figsize=(7, 4))\n",
    "count, bins, ignored = ax.hist(s, bins=15)\n",
    "ax.axis('off')\n",
    "fig.savefig(\"images/presentations/uniform_distributions.png\", bbox_inches=\"tight\")\n",
    "print(gini_coefficient(s))"
   ]
  },
  {
   "cell_type": "markdown",
   "metadata": {},
   "source": [
    "**Weibull distribution**"
   ]
  },
  {
   "cell_type": "code",
   "execution_count": 63,
   "metadata": {},
   "outputs": [
    {
     "name": "stdout",
     "output_type": "stream",
     "text": [
      "0.49943668088164367\n"
     ]
    },
    {
     "data": {
      "image/png": "[encoded data removed]",
      "text/plain": [
       "<Figure size 504x288 with 1 Axes>"
      ]
     },
     "metadata": {
      "needs_background": "light"
     },
     "output_type": "display_data"
    }
   ],
   "source": [
    "shape, scale = 1, 2  # mean=4, std=2*sqrt(2)]\n",
    "s = np.random.gamma(shape, scale, 1000)\n",
    "\n",
    "fig, ax = plt.subplots(figsize=(7, 4))\n",
    "count, bins, ignored = plt.hist(s, bins=15)\n",
    "ax.axis('off')\n",
    "fig.savefig(\"images/presentations/gamma_distributions.png\", bbox_inches=\"tight\")\n",
    "print(gini_coefficient(s))"
   ]
  },
  {
   "cell_type": "code",
   "execution_count": 20,
   "metadata": {},
   "outputs": [
    {
     "data": {
      "text/plain": [
       "tensor(0.1250, dtype=torch.float64)"
      ]
     },
     "execution_count": 20,
     "metadata": {},
     "output_type": "execute_result"
    }
   ],
   "source": [
    "t = torch.from_numpy(s).unsqueeze(0)\n",
    "gini_sorted(t)"
   ]
  }
 ],
 "metadata": {
  "kernelspec": {
   "display_name": "Python 3.8.12 64-bit ('sparsedet')",
   "language": "python",
   "name": "python3"
  },
  "language_info": {
   "codemirror_mode": {
    "name": "ipython",
    "version": 3
   },
   "file_extension": ".py",
   "mimetype": "text/x-python",
   "name": "python",
   "nbconvert_exporter": "python",
   "pygments_lexer": "ipython3",
   "version": "3.8.12"
  },
  "orig_nbformat": 4,
  "vscode": {
   "interpreter": {
    "hash": "3210461cc64488a10684b54480cce69295f99eff5e8cc45fd92c882088c34216"
   }
  }
 },
 "nbformat": 4,
 "nbformat_minor": 2
}
