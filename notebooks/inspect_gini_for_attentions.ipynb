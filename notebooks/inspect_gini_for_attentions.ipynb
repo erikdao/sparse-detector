{
 "cells": [
  {
   "cell_type": "markdown",
   "metadata": {},
   "source": [
    "# Inspect Gini scores for attention maps"
   ]
  },
  {
   "cell_type": "code",
   "execution_count": 1,
   "metadata": {},
   "outputs": [
    {
     "data": {
      "text/plain": [
       "PosixPath('/proj/azizpour-group/users/cuongdao/projects/sparse-detector')"
      ]
     },
     "execution_count": 1,
     "metadata": {},
     "output_type": "execute_result"
    }
   ],
   "source": [
    "import os\n",
    "import sys\n",
    "import torch\n",
    "from pathlib import Path\n",
    "import matplotlib.pyplot as plt\n",
    "\n",
    "root_dir = Path(os.path.dirname(os.getcwd()))\n",
    "package_root = os.path.dirname(os.getcwd())\n",
    "sys.path.insert(0, package_root)\n",
    "\n",
    "from sparse_detector.utils.metrics import gini_sorted\n",
    "\n",
    "root_dir"
   ]
  },
  {
   "cell_type": "code",
   "execution_count": 2,
   "metadata": {},
   "outputs": [
    {
     "name": "stdout",
     "output_type": "stream",
     "text": [
      "torch.Size([38, 25])\n"
     ]
    },
    {
     "data": {
      "text/plain": [
       "<matplotlib.image.AxesImage at 0x1554407def10>"
      ]
     },
     "execution_count": 2,
     "metadata": {},
     "output_type": "execute_result"
    },
    {
     "data": {
      "image/png": "[encoded data removed]",
      "text/plain": [
       "<Figure size 432x288 with 1 Axes>"
      ]
     },
     "metadata": {
      "needs_background": "light"
     },
     "output_type": "display_data"
    }
   ],
   "source": [
    "h, w = 38, 25\n",
    "softmax = torch.load(root_dir / \"temp\" / \"softmax_attns_000000230166.pt\", map_location=\"cpu\")\n",
    "softmax_attn = softmax['attentions'][0][88].view(h, w)\n",
    "print(softmax_attn.shape)\n",
    "plt.imshow(softmax_attn.view(w, h))"
   ]
  },
  {
   "cell_type": "code",
   "execution_count": 3,
   "metadata": {},
   "outputs": [
    {
     "name": "stdout",
     "output_type": "stream",
     "text": [
      "torch.Size([38, 25])\n"
     ]
    },
    {
     "data": {
      "text/plain": [
       "<matplotlib.image.AxesImage at 0x1554406e77c0>"
      ]
     },
     "execution_count": 3,
     "metadata": {},
     "output_type": "execute_result"
    },
    {
     "data": {
      "image/png": "[encoded data removed]",
      "text/plain": [
       "<Figure size 432x288 with 1 Axes>"
      ]
     },
     "metadata": {
      "needs_background": "light"
     },
     "output_type": "display_data"
    }
   ],
   "source": [
    "sparsemax = torch.load(root_dir / \"temp\" / \"sparsemax_attns_000000230166.pt\", map_location=\"cpu\")\n",
    "sparsemax_attn = sparsemax['attentions'][0][82].view(h, w)\n",
    "print(sparsemax_attn.shape)\n",
    "\n",
    "plt.imshow(sparsemax_attn.view(w, h))"
   ]
  },
  {
   "cell_type": "markdown",
   "metadata": {},
   "source": [
    "**Gini scores**"
   ]
  },
  {
   "cell_type": "code",
   "execution_count": 4,
   "metadata": {},
   "outputs": [
    {
     "name": "stdout",
     "output_type": "stream",
     "text": [
      "softmax=0.617949, sparsemax=0.315339\n"
     ]
    }
   ],
   "source": [
    "softmax_gini = gini_sorted(softmax_attn)\n",
    "sparsemax_gini = gini_sorted(sparsemax_attn)\n",
    "\n",
    "print(f\"softmax={softmax_gini:.6f}, sparsemax={sparsemax_gini:.6f}\")"
   ]
  }
 ],
 "metadata": {
  "interpreter": {
   "hash": "3210461cc64488a10684b54480cce69295f99eff5e8cc45fd92c882088c34216"
  },
  "kernelspec": {
   "display_name": "Python 3.8.12 64-bit ('sparsedet')",
   "language": "python",
   "name": "python3"
  },
  "language_info": {
   "codemirror_mode": {
    "name": "ipython",
    "version": 3
   },
   "file_extension": ".py",
   "mimetype": "text/x-python",
   "name": "python",
   "nbconvert_exporter": "python",
   "pygments_lexer": "ipython3",
   "version": "3.8.12"
  },
  "orig_nbformat": 4
 },
 "nbformat": 4,
 "nbformat_minor": 2
}
